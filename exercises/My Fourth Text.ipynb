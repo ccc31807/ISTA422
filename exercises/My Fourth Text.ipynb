{
 "cells": [
  {
   "cell_type": "markdown",
   "metadata": {},
   "source": [
    "# Create a shor test with inheritance"
   ]
  },
  {
   "cell_type": "markdown",
   "metadata": {},
   "source": [
    "Create a *Firearm* class, and three classes that inherit from *Firearm*"
   ]
  },
  {
   "cell_type": "code",
   "execution_count": 2,
   "metadata": {},
   "outputs": [],
   "source": [
    "using System;\n",
    "\n",
    "public class Firearm\n",
    "{\n",
    "    public void Speak(string name, string what)\n",
    "    {\n",
    "        Console.WriteLine($\"I am a {name} and I go {what}.\");\n",
    "    }\n",
    "}"
   ]
  },
  {
   "cell_type": "code",
   "execution_count": 3,
   "metadata": {},
   "outputs": [],
   "source": [
    "public class  Pistol : Firearm\n",
    "{\n",
    "\n",
    "}"
   ]
  },
  {
   "cell_type": "code",
   "execution_count": 4,
   "metadata": {},
   "outputs": [],
   "source": [
    "public class Rifle : Firearm\n",
    "{\n",
    "\n",
    "}"
   ]
  },
  {
   "cell_type": "code",
   "execution_count": 5,
   "metadata": {},
   "outputs": [],
   "source": [
    "public class Shotgun : Firearm\n",
    "{\n",
    "\n",
    "}"
   ]
  },
  {
   "cell_type": "markdown",
   "metadata": {},
   "source": [
    "Testing my classes:"
   ]
  },
  {
   "cell_type": "code",
   "execution_count": 10,
   "metadata": {},
   "outputs": [
    {
     "name": "stdout",
     "output_type": "stream",
     "text": [
      "I am a firearm and I go shoot things.\n",
      "I am a pistol and I go pop.\n",
      "I am a rifle and I go bang.\n",
      "I am a shotgun and I go boom.\n"
     ]
    }
   ],
   "source": [
    "Firearm f = new Firearm();\n",
    "f.Speak(\"firearm\",\"shoot things\");\n",
    "Pistol p = new Pistol();\n",
    "p.Speak(\"pistol\",\"pop\");\n",
    "Rifle r = new Rifle();\n",
    "r.Speak(\"rifle\",\"bang\");\n",
    "Shotgun s = new Shotgun();\n",
    "s.Speak(\"shotgun\",\"boom\");"
   ]
  },
  {
   "cell_type": "markdown",
   "metadata": {},
   "source": [
    "## Conclude test\n",
    "\n",
    "This ends the test."
   ]
  }
 ],
 "metadata": {
  "kernelspec": {
   "display_name": ".NET (C#)",
   "language": "C#",
   "name": ".net-csharp"
  },
  "language_info": {
   "file_extension": ".cs",
   "mimetype": "text/x-csharp",
   "name": "C#",
   "pygments_lexer": "csharp",
   "version": "8.0"
  }
 },
 "nbformat": 4,
 "nbformat_minor": 2
}
